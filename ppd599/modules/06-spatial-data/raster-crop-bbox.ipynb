{
 "cells": [
  {
   "cell_type": "markdown",
   "id": "liberal-vintage",
   "metadata": {},
   "source": [
    "This notebook loads an SRTM elevation tile, crops it to a bounding box, and resaves it as a tif."
   ]
  },
  {
   "cell_type": "code",
   "execution_count": null,
   "id": "adjacent-change",
   "metadata": {},
   "outputs": [],
   "source": [
    "import numpy as np\n",
    "import rasterio.mask\n",
    "from shapely.wkt import loads"
   ]
  },
  {
   "cell_type": "code",
   "execution_count": null,
   "id": "detailed-jungle",
   "metadata": {},
   "outputs": [],
   "source": [
    "# load the SRTM raster\n",
    "raster_path = '../../data/N34W119.hgt'\n",
    "raster = rasterio.open(raster_path)"
   ]
  },
  {
   "cell_type": "code",
   "execution_count": null,
   "id": "satisfactory-handy",
   "metadata": {},
   "outputs": [],
   "source": [
    "# define a bounding box to crop raster to\n",
    "wkt = 'POLYGON((-118.2863 34.0171, -118.2863 34.0711, -118.2212 34.0711, -118.2212 34.0171, -118.2863 34.0171))'\n",
    "bbox = loads(wkt)"
   ]
  },
  {
   "cell_type": "code",
   "execution_count": null,
   "id": "moral-robertson",
   "metadata": {},
   "outputs": [],
   "source": [
    "# crop the raster to the bounding box\n",
    "out_image, out_transform = rasterio.mask.mask(raster, [bbox], crop=True)\n",
    "out_meta = raster.meta\n",
    "out_meta.update({'driver': 'GTiff',\n",
    "                 'height': out_image.shape[1],\n",
    "                 'width': out_image.shape[2],\n",
    "                 'transform': out_transform})"
   ]
  },
  {
   "cell_type": "code",
   "execution_count": null,
   "id": "finnish-white",
   "metadata": {},
   "outputs": [],
   "source": [
    "# save the cropped raster as a tif file\n",
    "with rasterio.open('../../data/la-elevation.tif', 'w', **out_meta) as f:\n",
    "    f.write(out_image)"
   ]
  },
  {
   "cell_type": "code",
   "execution_count": null,
   "id": "academic-parking",
   "metadata": {},
   "outputs": [],
   "source": []
  }
 ],
 "metadata": {
  "kernelspec": {
   "display_name": "Python (ppd599)",
   "language": "python",
   "name": "ppd599"
  },
  "language_info": {
   "codemirror_mode": {
    "name": "ipython",
    "version": 3
   },
   "file_extension": ".py",
   "mimetype": "text/x-python",
   "name": "python",
   "nbconvert_exporter": "python",
   "pygments_lexer": "ipython3",
   "version": "3.10.8"
  }
 },
 "nbformat": 4,
 "nbformat_minor": 5
}
