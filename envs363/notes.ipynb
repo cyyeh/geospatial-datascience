{
 "cells": [
  {
   "attachments": {},
   "cell_type": "markdown",
   "id": "metropolitan-reaction",
   "metadata": {},
   "source": [
    "# Lecture Notes of ENVS363/563\n",
    "\n",
    "- course website: https://darribas.org/gds_course/content/home.html\n",
    "- book: https://geographicdata.science/book/intro.html"
   ]
  },
  {
   "attachments": {},
   "cell_type": "markdown",
   "id": "472f3f2f",
   "metadata": {},
   "source": [
    "## Part I: Building Blocks"
   ]
  },
  {
   "attachments": {},
   "cell_type": "markdown",
   "id": "58e5468d",
   "metadata": {},
   "source": [
    "### [Geographic thinking for data scientists](https://geographicdata.science/book/notebooks/01_geo_thinking.html)"
   ]
  },
  {
   "attachments": {},
   "cell_type": "markdown",
   "id": "c2623165",
   "metadata": {},
   "source": [
    "#### [Introduction to geographic thinking](https://geographicdata.science/book/notebooks/01_geo_thinking.html#introduction-to-geographic-thinking)\n",
    "\n",
    "- All maps are wrong, but some are useful.\n",
    "- Like a statistical model, a map is a representation of the underlying geographical process, but is not the process itself.\n",
    "- `data model`: how we conceptually represent a geographical process\n",
    "- `data structure`: how geographic data is represented in a computer"
   ]
  },
  {
   "attachments": {},
   "cell_type": "markdown",
   "id": "de775edd",
   "metadata": {},
   "source": [
    "#### [Conceptual representations: models](https://geographicdata.science/book/notebooks/01_geo_thinking.html#conceptual-representations-models)\n",
    "\n",
    "- Geographic processes are represented using objects, fields, and networks\n",
    "  - `Objects` are discrete entities that occupy a specific position in space and time.\n",
    "  - `Fields` are continuous surfaces that could, in theory, be measured at any location in space and time.\n",
    "  - `Networks` reflect a set of connections between objects or between positions in a field."
   ]
  },
  {
   "attachments": {},
   "cell_type": "markdown",
   "id": "5fc334dc",
   "metadata": {},
   "source": [
    "#### [Computational representations: data structures](https://geographicdata.science/book/notebooks/01_geo_thinking.html#computational-representations-data-structures)\n",
    "\n",
    "- However, making conceptual decisions based on technological implementations can be limiting. In the 1990s, Mark Gahegan proposed the concept of “disabling technology” to express how the technological systems we use may affect the structure of our thinking. As a metaphor, we can think of technology as a pair of eyeglasses and data models as the “instructions” to build lenses: if all we use to look at the world is the one pair we already have, we miss all the other ways of looking at the world that arise if we built lenses differently. Of course, one may believe they can operate without lenses at all, but even healthy eyes with perfect vision contain optical imperfections in their lenses!\n",
    "- There are a few standard data structures that have been around for a long time because they are so useful\n",
    "  - `geographic tables` store information about discrete objects.\n",
    "    - Tables are two dimensional structures made up of rows and columns. Each row represents an independent object, while each column stores an attribute of those objects.\n",
    "    - Technically speaking, geographic tables are widely supported in a variety of platforms. Popular examples include: PostGIS tables (as a geographic extension of the PostgreSQL database), R’s sf data frames or, more relevant for this book, Python’s GeoDataFrame objects, provided by geopandas (shown in the figure below).\n",
    "  - `surfaces(cubes)` are used to record empirical measurements for field data models.\n",
    "    - For a field (in theory), there is an infinite set of locations for which a field may be measured. In practice, fields are measured at a finite set of locations.\n",
    "    - These multi-dimensional arrays are sometimes called data cubes or volumes.\n",
    "  - `spatial graphs` capture relationships between objects that are mediated through space. In a sense, they can be considered geographic networks, a data structure to store topologies.\n",
    "    - To make the distinction clear, we need to think about what aspect of the street layout or the river system we want to record. If it is the exact shape, length and location of each segment or stream, this resembles much more a collection of independent lines or polygons that happen to “touch each other” at their ends. If what we are interested in is to understand how each segment or river is related to each other, who is connected to whom and how the individual connections comprise a broader interconnected system, then a spatial graph is a more helpful structure to use. This dichotomy of the object versus the graph is only one example of a larger point: the right link between a data model and data structure does not solely depend on the phenomenon we are trying to capture, but also our analytical goal."
   ]
  },
  {
   "attachments": {},
   "cell_type": "markdown",
   "id": "39f3e279",
   "metadata": {},
   "source": [
    "#### [Connecting the conceptual to the computational](https://geographicdata.science/book/notebooks/01_geo_thinking.html#connecting-the-conceptual-to-the-computational)\n",
    "\n",
    "- In presenting this traditional relationship between data model and data structure, we also seek to highlight the recent developments where this traditional mapping is breaking down.\n",
    "  - First, the main conceptual mapping of data model to data structure is inherited from advances made in computer graphics. This traditional view represents fields as rasters and objects as vector-based tables. In this mode of analysis, there is generally no space for networks as a first-class geographic data structure. They are instead computed on the fly from a given set of objects or fields.\n",
    "  - Current trends in geographic data science suggest that this may not necessarily be the case, though. Indeed, contemporary geographic data science is moving beyond these mappings in two very specific ways.\n",
    "    - First, statistical learning methods are getting very good at efficiently translating data between different representations.\n",
    "    - Second, this means that there are an increasingly large number of attempts to find a “fundamental” underlying scale or representation that can be used for interchange between geographic data structures.\n",
    "  - [H3: Hexagonal hierarchical geospatial indexing system](https://h3geo.org/)\n",
    "  - [S2](https://docs.google.com/presentation/d/1Hl4KapfAENAOf4gv-pSngKwvS_jwNVHRPZTTDzXXn6Q/edit#slide=id.i0)"
   ]
  },
  {
   "attachments": {},
   "cell_type": "markdown",
   "id": "4854c002",
   "metadata": {},
   "source": [
    "### [Computational tools for geographic data science](https://geographicdata.science/book/notebooks/02_geospatial_computational_environment.html)"
   ]
  },
  {
   "cell_type": "markdown",
   "id": "620abc3e",
   "metadata": {},
   "source": []
  }
 ],
 "metadata": {
  "kernelspec": {
   "display_name": "Python 3",
   "language": "python",
   "name": "python3"
  },
  "language_info": {
   "codemirror_mode": {
    "name": "ipython",
    "version": 3
   },
   "file_extension": ".py",
   "mimetype": "text/x-python",
   "name": "python",
   "nbconvert_exporter": "python",
   "pygments_lexer": "ipython3",
   "version": "3.8.8"
  }
 },
 "nbformat": 4,
 "nbformat_minor": 5
}
